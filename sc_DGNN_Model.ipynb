{
  "nbformat": 4,
  "nbformat_minor": 0,
  "metadata": {
    "colab": {
      "provenance": [],
      "authorship_tag": "ABX9TyMQjZpCDFDHjfAth1hlVIU+",
      "include_colab_link": true
    },
    "kernelspec": {
      "name": "python3",
      "display_name": "Python 3"
    },
    "language_info": {
      "name": "python"
    }
  },
  "cells": [
    {
      "cell_type": "markdown",
      "metadata": {
        "id": "view-in-github",
        "colab_type": "text"
      },
      "source": [
        "<a href=\"https://colab.research.google.com/github/udayameister/sc-DGNN/blob/main/sc_DGNN_Model.ipynb\" target=\"_parent\"><img src=\"https://colab.research.google.com/assets/colab-badge.svg\" alt=\"Open In Colab\"/></a>"
      ]
    },
    {
      "cell_type": "code",
      "execution_count": null,
      "metadata": {
        "id": "Kv1IR8kVxcLm"
      },
      "outputs": [],
      "source": [
        "#import packages\n",
        "import torch\n",
        "import torch.nn as nn\n",
        "from torch_geometric.nn import MessagePassing\n",
        "from torch_geometric.utils import add_self_loops, degree\n",
        "from sklearn.metrics import accuracy_score, f1_score, roc_auc_score\n",
        "from sklearn.model_selection import train_test_split\n",
        "from torch_geometric.data import Data"
      ]
    },
    {
      "cell_type": "code",
      "source": [
        "# Define the SchizophreniaDataset class to load and preprocess the data into PyG's Data object\n",
        "class SchizophreniaDataset(torch.utils.data.Dataset):\n",
        "    def __init__(self, ...):  # Implement your data loading logic here\n",
        "        pass\n",
        "\n",
        "    def __len__(self):\n",
        "        pass\n",
        "\n",
        "    def __getitem__(self, idx):\n",
        "        pass\n"
      ],
      "metadata": {
        "id": "5mI85LRiymvv"
      },
      "execution_count": null,
      "outputs": []
    },
    {
      "cell_type": "code",
      "source": [
        "# Define Edge Processing module\n",
        "class EdgeProcessingModule(MessagePassing):\n",
        "    def __init__(self, in_channels, out_channels):\n",
        "        super(EdgeProcessingModule, self).__init__(aggr='mean')\n",
        "        self.lin = nn.Linear(in_channels, out_channels)\n",
        "\n",
        "    def forward(self, x, edge_index):\n",
        "        edge_index, _ = add_self_loops(edge_index, num_nodes=x.size(0))\n",
        "        return self.propagate(edge_index, x=x)\n",
        "\n",
        "    def message(self, x_i, x_j, edge_index):\n",
        "        return self.lin(x_j - x_i)"
      ],
      "metadata": {
        "id": "xLHrjEz1yq30"
      },
      "execution_count": null,
      "outputs": []
    },
    {
      "cell_type": "code",
      "source": [
        "# Define Node Processing module\n",
        "class NodeProcessingModule(nn.Module):\n",
        "    def __init__(self, in_channels, out_channels):\n",
        "        super(NodeProcessingModule, self).__init__()\n",
        "        self.lin = nn.Linear(in_channels, out_channels)\n",
        "\n",
        "    def forward(self, x):\n",
        "        return self.lin(x)"
      ],
      "metadata": {
        "id": "N1-0IUZQyusr"
      },
      "execution_count": null,
      "outputs": []
    },
    {
      "cell_type": "code",
      "source": [
        "# Define Enhanced Graph Processing module\n",
        "class EnhancedGraphProcessingModule(nn.Module):\n",
        "    def __init__(self, in_channels, out_channels):\n",
        "        super(EnhancedGraphProcessingModule, self).__init__()\n",
        "        self.lin = nn.Linear(in_channels, out_channels)\n",
        "\n",
        "    def forward(self, x):\n",
        "        return self.lin(x)\n"
      ],
      "metadata": {
        "id": "Q_HP8bwzyyQc"
      },
      "execution_count": null,
      "outputs": []
    },
    {
      "cell_type": "code",
      "source": [
        "# Define Pooling Strategy module\n",
        "class PoolingModule(nn.Module):\n",
        "    def __init__(self):\n",
        "        super(PoolingModule, self).__init__()\n",
        "\n",
        "    def forward(self, x, batch):\n",
        "        return torch.mean(x, dim=0)"
      ],
      "metadata": {
        "id": "Gp7vts7Zy0R2"
      },
      "execution_count": null,
      "outputs": []
    },
    {
      "cell_type": "code",
      "source": [
        "# Define Readout module\n",
        "class ReadoutModule(nn.Module):\n",
        "    def __init__(self, in_channels, out_channels):\n",
        "        super(ReadoutModule, self).__init__()\n",
        "        self.lin = nn.Linear(in_channels, out_channels)\n",
        "\n",
        "    def forward(self, x):\n",
        "        return self.lin(x)"
      ],
      "metadata": {
        "id": "RUHTb9OOy2Nc"
      },
      "execution_count": null,
      "outputs": []
    },
    {
      "cell_type": "code",
      "source": [
        "# Define the Deep Graph Neural Network model\n",
        "class SchizophreniaPredictionGNN(nn.Module):\n",
        "    def __init__(self, in_channels, edge_hidden_channels, node_hidden_channels,\n",
        "                 graph_hidden_channels, pooling_channels, num_classes):\n",
        "        super(SchizophreniaPredictionGNN, self).__init__()\n",
        "        self.edge_module = EdgeProcessingModule(in_channels, edge_hidden_channels)\n",
        "        self.node_module = NodeProcessingModule(edge_hidden_channels, node_hidden_channels)\n",
        "        self.graph_module = EnhancedGraphProcessingModule(node_hidden_channels, graph_hidden_channels)\n",
        "        self.pooling_module = PoolingModule()\n",
        "        self.readout_module = ReadoutModule(graph_hidden_channels, num_classes)\n",
        "\n",
        "    def forward(self, data):\n",
        "        x, edge_index, batch = data.x, data.edge_index, data.batch\n",
        "\n",
        "        # Edge Processing\n",
        "        edge_feats = self.edge_module(x, edge_index)\n",
        "\n",
        "        # Node Processing\n",
        "        node_feats = self.node_module(edge_feats)\n",
        "\n",
        "        # Enhanced Graph Processing\n",
        "        graph_feats = self.graph_module(node_feats)\n",
        "\n",
        "        # Pooling Strategy\n",
        "        pooled_feats = self.pooling_module(graph_feats, batch)\n",
        "\n",
        "        # Readout\n",
        "        output = self.readout_module(pooled_feats)\n",
        "        return output\n"
      ],
      "metadata": {
        "id": "6K8zzsfGy5xz"
      },
      "execution_count": null,
      "outputs": []
    },
    {
      "cell_type": "code",
      "source": [
        "# Load your data into PyG's Data object\n",
        "# data = SchizophreniaDataset(...)\n",
        "\n",
        "# Split the data into training and test sets\n",
        "# train_data, test_data = train_test_split(data, test_size=0.2, random_state=42)\n",
        "\n",
        "# Instantiate the model\n",
        "model = SchizophreniaPredictionGNN(in_channels=your_input_feature_dim,\n",
        "                                    edge_hidden_channels=64,\n",
        "                                    node_hidden_channels=64,\n",
        "                                    graph_hidden_channels=64,\n",
        "                                    pooling_channels=64,\n",
        "                                    num_classes=2)  # 2 classes: Schizophrenia vs Non-Schizophrenia\n"
      ],
      "metadata": {
        "id": "nrI32lLfy6jc"
      },
      "execution_count": null,
      "outputs": []
    },
    {
      "cell_type": "code",
      "source": [
        "# Define loss function and optimizer\n",
        "criterion = nn.CrossEntropyLoss()\n",
        "optimizer = torch.optim.Adam(model.parameters(), lr=0.001)\n"
      ],
      "metadata": {
        "id": "vVNTMTnrzCUj"
      },
      "execution_count": null,
      "outputs": []
    },
    {
      "cell_type": "code",
      "source": [
        "# Training loop\n",
        "num_epochs = 100\n",
        "for epoch in range(num_epochs):\n",
        "    model.train()\n",
        "    optimizer.zero_grad()\n",
        "    output = model(data)\n",
        "    labels = data.y\n",
        "    loss = criterion(output, labels)\n",
        "    loss.backward()\n",
        "    optimizer.step()\n"
      ],
      "metadata": {
        "id": "rV2Q9lwwzC-9"
      },
      "execution_count": null,
      "outputs": []
    },
    {
      "cell_type": "code",
      "source": [
        "# Evaluation\n",
        "model.eval()\n",
        "with torch.no_grad():\n",
        "    output = model(data)\n",
        "    predicted_labels = torch.argmax(output, dim=1)\n",
        "    true_labels = data.y\n",
        "    accuracy = accuracy_score(true_labels, predicted_labels)\n",
        "    f1 = f1_score(true_labels, predicted_labels, average='binary')  # Assuming binary classification\n",
        "    auc = roc_auc_score(true_labels, predicted_labels)\n",
        "\n",
        "print(f'Accuracy: {accuracy:.4f}, F1 Score: {f1:.4f}, AUC: {auc:.4f}')"
      ],
      "metadata": {
        "id": "FpCSAjuuzJTr"
      },
      "execution_count": null,
      "outputs": []
    }
  ]
}